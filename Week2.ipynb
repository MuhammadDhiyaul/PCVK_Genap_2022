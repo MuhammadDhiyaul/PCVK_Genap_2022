{
  "nbformat": 4,
  "nbformat_minor": 0,
  "metadata": {
    "colab": {
      "name": "Week2.ipynb",
      "provenance": [],
      "authorship_tag": "ABX9TyNKZ+6zFyxxh2ZU50PGSqcT",
      "include_colab_link": true
    },
    "kernelspec": {
      "name": "python3",
      "display_name": "Python 3"
    },
    "language_info": {
      "name": "python"
    }
  },
  "cells": [
    {
      "cell_type": "markdown",
      "metadata": {
        "id": "view-in-github",
        "colab_type": "text"
      },
      "source": [
        "<a href=\"https://colab.research.google.com/github/MuhammadDhiyaul/PCVK_Genap_2022/blob/main/Week2.ipynb\" target=\"_parent\"><img src=\"https://colab.research.google.com/assets/colab-badge.svg\" alt=\"Open In Colab\"/></a>"
      ]
    },
    {
      "cell_type": "markdown",
      "source": [
        "PRAKTIKUM"
      ],
      "metadata": {
        "id": "SjVmpiy0zR9L"
      }
    },
    {
      "cell_type": "markdown",
      "source": [
        "1. Buka https://colab.research.google.com/. Setelah dipastikan bahwa google Colab \n",
        "terhubung dengan Github Anda, lanjutkan dengan memilih repository yang telah \n",
        "digunakan pada praktikum minggu lalu, rename file menjadi “Week2.ipynb”. "
      ],
      "metadata": {
        "id": "7SPvJyijzYir"
      }
    },
    {
      "cell_type": "code",
      "execution_count": null,
      "metadata": {
        "id": "1kPm7sByzI5m"
      },
      "outputs": [],
      "source": [
        ""
      ]
    }
  ]
}